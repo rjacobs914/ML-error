{
 "cells": [
  {
   "cell_type": "code",
   "execution_count": 1,
   "metadata": {},
   "outputs": [],
   "source": [
    "import matplotlib\n",
    "import matplotlib.pyplot as plt\n",
    "import numpy as np"
   ]
  },
  {
   "cell_type": "code",
   "execution_count": 2,
   "metadata": {},
   "outputs": [],
   "source": [
    "x = np.random.rand(100)*10\n",
    "y = np.random.rand(100)*10"
   ]
  },
  {
   "cell_type": "code",
   "execution_count": 3,
   "metadata": {},
   "outputs": [
    {
     "ename": "NameError",
     "evalue": "name 'binned_model_errors' is not defined",
     "output_type": "error",
     "traceback": [
      "\u001b[0;31m---------------------------------------------------------------------------\u001b[0m",
      "\u001b[0;31mNameError\u001b[0m                                 Traceback (most recent call last)",
      "\u001b[0;32m<ipython-input-3-bd3e842c1bf9>\u001b[0m in \u001b[0;36m<module>\u001b[0;34m\u001b[0m\n\u001b[1;32m      9\u001b[0m \u001b[0;34m\u001b[0m\u001b[0m\n\u001b[1;32m     10\u001b[0m \u001b[0max\u001b[0m\u001b[0;34m.\u001b[0m\u001b[0mplot\u001b[0m\u001b[0;34m(\u001b[0m\u001b[0mx\u001b[0m\u001b[0;34m,\u001b[0m\u001b[0my\u001b[0m\u001b[0;34m,\u001b[0m\u001b[0;34m'o'\u001b[0m\u001b[0;34m)\u001b[0m\u001b[0;34m\u001b[0m\u001b[0;34m\u001b[0m\u001b[0m\n\u001b[0;32m---> 11\u001b[0;31m \u001b[0mplt\u001b[0m\u001b[0;34m.\u001b[0m\u001b[0mplot\u001b[0m\u001b[0;34m(\u001b[0m\u001b[0mbinned_model_errors\u001b[0m\u001b[0;34m,\u001b[0m \u001b[0mRMS_abs_res\u001b[0m\u001b[0;34m,\u001b[0m \u001b[0;34m'o'\u001b[0m\u001b[0;34m,\u001b[0m \u001b[0mcolor\u001b[0m\u001b[0;34m=\u001b[0m\u001b[0;34m'blue'\u001b[0m\u001b[0;34m)\u001b[0m\u001b[0;34m\u001b[0m\u001b[0;34m\u001b[0m\u001b[0m\n\u001b[0m\u001b[1;32m     12\u001b[0m \u001b[0mplt\u001b[0m\u001b[0;34m.\u001b[0m\u001b[0mplot\u001b[0m\u001b[0;34m(\u001b[0m\u001b[0mxfit\u001b[0m\u001b[0;34m,\u001b[0m \u001b[0myfit\u001b[0m\u001b[0;34m)\u001b[0m\u001b[0;34m\u001b[0m\u001b[0;34m\u001b[0m\u001b[0m\n\u001b[1;32m     13\u001b[0m \u001b[0mplt\u001b[0m\u001b[0;34m.\u001b[0m\u001b[0mshow\u001b[0m\u001b[0;34m(\u001b[0m\u001b[0;34m)\u001b[0m\u001b[0;34m\u001b[0m\u001b[0;34m\u001b[0m\u001b[0m\n",
      "\u001b[0;31mNameError\u001b[0m: name 'binned_model_errors' is not defined"
     ]
    },
    {
     "data": {
      "image/png": "[encoded data removed]",
      "text/plain": [
       "<Figure size 432x288 with 1 Axes>"
      ]
     },
     "metadata": {
      "needs_background": "light"
     },
     "output_type": "display_data"
    }
   ],
   "source": [
    "fig = plt.figure()\n",
    "\n",
    "ax = fig.add_subplot(111)\n",
    "\n",
    "ax.set_title('axes title')\n",
    "\n",
    "ax.set_xlabel('xlabel')\n",
    "ax.set_ylabel('ylabel')\n",
    "\n",
    "ax.plot(x,y,'o')\n",
    "plt.plot(binned_model_errors, RMS_abs_res, 'o', color='blue')\n",
    "plt.plot(xfit, yfit)\n",
    "plt.show()"
   ]
  },
  {
   "cell_type": "code",
   "execution_count": 4,
   "metadata": {},
   "outputs": [],
   "source": [
    "a = [[100, 0.5, 0.3], [200, 0.6, 0.1], [500, 0.55, 0.05]]"
   ]
  },
  {
   "cell_type": "code",
   "execution_count": 5,
   "metadata": {},
   "outputs": [],
   "source": [
    "x, y, err = [], [], []\n",
    "for i in range(0, len(a)):\n",
    "    k = a[i]\n",
    "    x.append(k[0])\n",
    "    y.append(k[1])\n",
    "    err.append(k[2])"
   ]
  },
  {
   "cell_type": "code",
   "execution_count": 6,
   "metadata": {},
   "outputs": [
    {
     "name": "stdout",
     "output_type": "stream",
     "text": [
      "[100, 200, 500]\n",
      "[0.5, 0.6, 0.55]\n",
      "[0.3, 0.1, 0.05]\n"
     ]
    }
   ],
   "source": [
    "print(x)\n",
    "print(y)\n",
    "print(err)"
   ]
  },
  {
   "cell_type": "code",
   "execution_count": 7,
   "metadata": {},
   "outputs": [
    {
     "data": {
      "image/png": "[encoded data removed]",
      "text/plain": [
       "<Figure size 432x288 with 1 Axes>"
      ]
     },
     "metadata": {
      "needs_background": "light"
     },
     "output_type": "display_data"
    }
   ],
   "source": [
    "fig = plt.figure()\n",
    "ax = fig.add_subplot(111)\n",
    "#ax.scatter(x,y)\n",
    "ax.errorbar(x,y,yerr=err, fmt='o')\n",
    "plt.show()"
   ]
  },
  {
   "cell_type": "code",
   "execution_count": 8,
   "metadata": {},
   "outputs": [],
   "source": [
    "a_direct_unscaled = np.load('friedman_500_data/a_direct_unscaled.npy')"
   ]
  },
  {
   "cell_type": "code",
   "execution_count": 9,
   "metadata": {},
   "outputs": [
    {
     "name": "stdout",
     "output_type": "stream",
     "text": [
      "[[5.00000000e+01 4.86652313e-01 3.50850321e-01]\n",
      " [1.00000000e+02 7.99439960e-01 1.84902044e-01]\n",
      " [1.50000000e+02 6.54844432e-01 2.17419419e-01]\n",
      " [2.00000000e+02 6.77556249e-01 1.53167019e-01]\n",
      " [2.50000000e+02 5.19110472e-01 3.17360182e-01]\n",
      " [3.00000000e+02 6.56400178e-01 1.94336486e-01]\n",
      " [3.50000000e+02 6.54510456e-01 2.12784308e-01]\n",
      " [4.00000000e+02 6.58927197e-01 1.81292749e-01]\n",
      " [4.50000000e+02 7.22427016e-01 7.50414371e-03]\n",
      " [5.00000000e+02 6.64863075e-01 1.71805853e-01]\n",
      " [5.50000000e+02 7.22524803e-01 7.15001394e-03]\n",
      " [6.00000000e+02 6.60339221e-01 1.76649599e-01]\n",
      " [6.50000000e+02 6.63368337e-01 1.87802778e-01]\n",
      " [7.00000000e+02 7.21646222e-01 9.15402886e-03]\n",
      " [7.50000000e+02 6.52592864e-01 1.97674247e-01]\n",
      " [8.00000000e+02 6.57184820e-01 1.91410894e-01]\n",
      " [8.50000000e+02 7.16853644e-01 4.45452981e-03]\n",
      " [9.00000000e+02 7.22387158e-01 8.60322335e-03]\n",
      " [9.50000000e+02 6.47716771e-01 2.30027745e-01]\n",
      " [1.00000000e+03 7.21483426e-01 8.37626562e-03]]\n"
     ]
    }
   ],
   "source": [
    "print(a_direct_unscaled)"
   ]
  },
  {
   "cell_type": "code",
   "execution_count": 10,
   "metadata": {},
   "outputs": [],
   "source": [
    "import numpy as np\n",
    "from package import CVData as cvd\n",
    "from package import CorrectionFactors as cf\n",
    "from package import MakePlot as mp\n",
    "from package import TestData as td\n",
    "from sklearn.model_selection import train_test_split"
   ]
  },
  {
   "cell_type": "code",
   "execution_count": 11,
   "metadata": {},
   "outputs": [],
   "source": [
    "from sklearn.linear_model import RidgeCV\n",
    "from sklearn.datasets import load_boston\n",
    "from sklearn.preprocessing import StandardScaler"
   ]
  },
  {
   "cell_type": "code",
   "execution_count": 12,
   "metadata": {},
   "outputs": [],
   "source": [
    "#X = np.load('perovskite_data/all_x_values.npy')\n",
    "#y = np.load('perovskite_data/all_y_values.npy')\n",
    "X = np.load('friedman_500_data/training_x_values.npy')\n",
    "y = np.load('friedman_500_data/training_y_values.npy')"
   ]
  },
  {
   "cell_type": "code",
   "execution_count": 13,
   "metadata": {},
   "outputs": [],
   "source": [
    "# Standarize features\n",
    "scaler = StandardScaler()\n",
    "X_std = scaler.fit_transform(X)"
   ]
  },
  {
   "cell_type": "code",
   "execution_count": 14,
   "metadata": {},
   "outputs": [],
   "source": [
    "# Create ridge regression with three possible alpha values\n",
    "regr_cv = RidgeCV(alphas=[0.001, 0.01, 0.1, 1.0, 10.0, 100.0, 1000.0])"
   ]
  },
  {
   "cell_type": "code",
   "execution_count": 15,
   "metadata": {},
   "outputs": [],
   "source": [
    "# Fit the linear regression\n",
    "model_cv = regr_cv.fit(X_std, y)"
   ]
  },
  {
   "cell_type": "code",
   "execution_count": 16,
   "metadata": {},
   "outputs": [
    {
     "data": {
      "text/plain": [
       "1.0"
      ]
     },
     "execution_count": 16,
     "metadata": {},
     "output_type": "execute_result"
    }
   ],
   "source": [
    "# View alpha\n",
    "model_cv.alpha_"
   ]
  },
  {
   "cell_type": "code",
   "execution_count": 25,
   "metadata": {},
   "outputs": [],
   "source": [
    "a = np.load('data_for_paper_plots/Perovskite/RF/Test/a.npy')\n",
    "b = np.load('data_for_paper_plots/Perovskite/RF/Test/b.npy')"
   ]
  },
  {
   "cell_type": "code",
   "execution_count": 26,
   "metadata": {},
   "outputs": [
    {
     "name": "stdout",
     "output_type": "stream",
     "text": [
      "[0.81222656 0.8        0.82010116 0.8853346  0.87576225 0.8359709\n",
      " 0.83277168 0.79999972 0.85171522 0.88255379]\n",
      "[-2.79245760e-03  1.62630326e-19  2.73824696e-10 -1.06369173e-03\n",
      "  5.30201634e-14  1.65352867e-09 -5.40619954e-14 -6.48696004e-20\n",
      " -2.22952622e-10 -3.67550580e-12]\n",
      "mean of a:\n",
      "0.8396435876862839\n",
      "stdev of a:\n",
      "0.031171777561348542\n",
      "mean of b:\n",
      "-0.0003856147630069217\n",
      "stdev of b:\n",
      "0.0008626860426969767\n"
     ]
    }
   ],
   "source": [
    "print(a)\n",
    "print(b)\n",
    "print(\"mean of a:\")\n",
    "print(np.mean(a))\n",
    "print(\"stdev of a:\")\n",
    "print(np.std(a))\n",
    "print(\"mean of b:\")\n",
    "print(np.mean(b))\n",
    "print(\"stdev of b:\")\n",
    "print(np.std(b))"
   ]
  },
  {
   "cell_type": "code",
   "execution_count": 2,
   "metadata": {},
   "outputs": [],
   "source": [
    "X_train_pv = np.load('perovskite_data/all_x_values.npy')\n",
    "y_train_pv = np.load('perovskite_data/all_y_values.npy')\n",
    "X_train_diff = np.load('diffusion_data/all_x_values.npy')\n",
    "y_train_diff = np.load('diffusion_data/all_y_values.npy')"
   ]
  },
  {
   "cell_type": "code",
   "execution_count": 4,
   "metadata": {},
   "outputs": [
    {
     "name": "stdout",
     "output_type": "stream",
     "text": [
      "1918\n"
     ]
    }
   ],
   "source": [
    "print(len(y_train_pv))"
   ]
  },
  {
   "cell_type": "code",
   "execution_count": 5,
   "metadata": {},
   "outputs": [
    {
     "name": "stdout",
     "output_type": "stream",
     "text": [
      "408\n"
     ]
    }
   ],
   "source": [
    "print(len(y_train_diff))"
   ]
  },
  {
   "cell_type": "code",
   "execution_count": 6,
   "metadata": {},
   "outputs": [
    {
     "name": "stdout",
     "output_type": "stream",
     "text": [
      "70\n"
     ]
    }
   ],
   "source": [
    "print(len(X_train_pv[0]))"
   ]
  },
  {
   "cell_type": "code",
   "execution_count": 7,
   "metadata": {},
   "outputs": [
    {
     "name": "stdout",
     "output_type": "stream",
     "text": [
      "287\n"
     ]
    }
   ],
   "source": [
    "print(len(X_train_diff[0]))"
   ]
  },
  {
   "cell_type": "code",
   "execution_count": 3,
   "metadata": {},
   "outputs": [
    {
     "name": "stdout",
     "output_type": "stream",
     "text": [
      "[ 1.53312500e+01  3.00000000e+02  0.00000000e+00  4.05000000e+02\n",
      "  2.67893750e+03  2.25000000e+01  5.00000000e+00  1.60000000e-01\n",
      "  0.00000000e+00  2.70625000e+01  2.30000000e+02  7.00000000e+00\n",
      " -5.32394920e+00  1.63000000e+00  5.00000000e+00  2.22625000e+01\n",
      "  7.00000000e+00  7.00000000e+00 -1.68281360e+00  7.00000000e+00\n",
      "  2.92006250e+02  1.70787500e+03  5.00000000e+00  1.27758750e+01\n",
      "  2.20437500e+00  1.70000000e-01  0.00000000e+00  2.91250000e+02\n",
      "  5.00000000e+00  2.07800000e+03  1.92000000e+00  7.00000000e+00\n",
      "  1.00000000e+00  3.67500000e+02  7.00000000e+00  3.00000000e+00\n",
      "  2.62850136e-01  0.00000000e+00  4.46700000e+02 -1.67793991e+00\n",
      "  1.06800000e+01  1.76630435e-01  8.00000000e+00  3.00000000e+00\n",
      "  1.30100000e+01  0.00000000e+00  0.00000000e+00  2.13223900e-03\n",
      "  8.01000000e+00 -5.32608144e+00  6.45502198e+00  1.73987500e+00\n",
      "  0.00000000e+00  1.26000000e+00  8.00000000e+00  4.07586269e+00\n",
      "  7.00000000e+00 -5.17500000e+01 -7.31187500e+00  3.07000000e+01\n",
      "  8.40000000e+00  4.72500000e+00  6.18731250e+00  6.80000000e+00\n",
      " -3.43750000e-01  3.00000000e+00 -8.93926069e+00  8.00000000e+00\n",
      "  0.00000000e+00  1.84000000e+01]\n"
     ]
    }
   ],
   "source": [
    "print(X_train_pv[0])"
   ]
  },
  {
   "cell_type": "code",
   "execution_count": null,
   "metadata": {},
   "outputs": [],
   "source": []
  }
 ],
 "metadata": {
  "kernelspec": {
   "display_name": "Python 3",
   "language": "python",
   "name": "python3"
  },
  "language_info": {
   "codemirror_mode": {
    "name": "ipython",
    "version": 3
   },
   "file_extension": ".py",
   "mimetype": "text/x-python",
   "name": "python",
   "nbconvert_exporter": "python",
   "pygments_lexer": "ipython3",
   "version": "3.7.4"
  }
 },
 "nbformat": 4,
 "nbformat_minor": 2
}
